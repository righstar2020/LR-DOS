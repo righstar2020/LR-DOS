{
 "cells": [
  {
   "cell_type": "markdown",
   "metadata": {},
   "source": [
    "协议(HTTP、SSH、物联网)、流量特征(流量大小、流量频率、流量方向)、端口(DOS、R2L、U2R)\n",
    "\n",
    "X=[i for i in range(10)]\n",
    "Y=[i for i in range(10)]"
   ]
  }
 ],
 "metadata": {
  "language_info": {
   "name": "python"
  }
 },
 "nbformat": 4,
 "nbformat_minor": 2
}
